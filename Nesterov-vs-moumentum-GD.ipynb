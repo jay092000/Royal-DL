{
 "cells": [
  {
   "cell_type": "code",
   "execution_count": 1,
   "metadata": {},
   "outputs": [],
   "source": [
    "import numpy as np\n",
    "import time"
   ]
  },
  {
   "cell_type": "code",
   "execution_count": 2,
   "metadata": {},
   "outputs": [],
   "source": [
    "X=[0.5,2.5]\n",
    "Y=[0.2,0.9]\n"
   ]
  },
  {
   "cell_type": "code",
   "execution_count": 3,
   "metadata": {},
   "outputs": [],
   "source": [
    "def sigmoid(w,b,x):\n",
    "    return 1/(1+(np.exp(-(w*x-b))))"
   ]
  },
  {
   "cell_type": "code",
   "execution_count": 4,
   "metadata": {},
   "outputs": [],
   "source": [
    "def gradW(w,b,x,y):\n",
    "    fx = sigmoid(w,b,x)\n",
    "    return (fx - y) * (fx) * (1 - fx) * x"
   ]
  },
  {
   "cell_type": "code",
   "execution_count": 5,
   "metadata": {},
   "outputs": [],
   "source": [
    "def gradB(w,b,x,y):\n",
    "    fx = sigmoid(w,b,x)\n",
    "    return (fx - y) * (fx) * (1 - fx)"
   ]
  },
  {
   "cell_type": "code",
   "execution_count": 6,
   "metadata": {},
   "outputs": [],
   "source": [
    "def lossFuction(w,b):\n",
    "    error = 0\n",
    "    for (dx,dy) in zip(X,Y):\n",
    "        fx = sigmoid(w,b,dx)\n",
    "        error += 0.5 * (fx - dy)**2\n",
    "    return error"
   ]
  },
  {
   "cell_type": "code",
   "execution_count": 12,
   "metadata": {},
   "outputs": [],
   "source": [
    "def moumentum_grad(w,b,learning_rate,epochs):\n",
    "    seconds = time.time()\n",
    "    gama = 0.1\n",
    "    w_pre,b_pre = 0,0\n",
    "    for i in range(epochs):\n",
    "        dw,db = 0,0\n",
    "        for (x,y) in zip(X,Y):\n",
    "            dw += gradW(w,b,x,y)\n",
    "            db += gradB(w,b,x,y)\n",
    "        w = w - ((gama * w_pre) +(learning_rate * dw))\n",
    "        b = b - ((gama * b_pre) +(learning_rate * db))\n",
    "        w_pre = w\n",
    "        b_pre = b\n",
    "    print(lossFuction(w,b))\n",
    "    print(\"Seconds since epoch =\", time.time() - seconds)"
   ]
  },
  {
   "cell_type": "code",
   "execution_count": 13,
   "metadata": {},
   "outputs": [],
   "source": [
    "def nesterov_grad(w,b,learning_rate,epochs):\n",
    "    seconds = time.time()\n",
    "    gama = 0.1\n",
    "    w_pre,b_pre = 0,0\n",
    "    for i in range(epochs):\n",
    "        dw,db = 0,0\n",
    "        w = w - (gama * w_pre)\n",
    "        b = b - (gama * b_pre)\n",
    "        for (x,y) in zip(X,Y):\n",
    "            dw += gradW(w,b,x,y)\n",
    "            db += gradB(w,b,x,y)\n",
    "        w = w - ((gama * w_pre) +(learning_rate * dw))\n",
    "        b = b - ((gama * b_pre) +(learning_rate * db))\n",
    "        w_pre = ((gama * w_pre) +(learning_rate * dw))\n",
    "        b_pre = ((gama * b_pre) +(learning_rate * db))\n",
    "    print(lossFuction(w,b))\n",
    "    print(\"Seconds since epoch =\", time.time() - seconds)"
   ]
  },
  {
   "cell_type": "code",
   "execution_count": 39,
   "metadata": {},
   "outputs": [
    {
     "name": "stdout",
     "output_type": "stream",
     "text": [
      "0.07307142628533342\n",
      "Seconds since epoch = 0.0005400180816650391\n",
      "--------------------------\n",
      "0.10476153557145784\n",
      "Seconds since epoch = 0.0002541542053222656\n"
     ]
    }
   ],
   "source": [
    "moumentum_grad(2,2,0.1,20)\n",
    "print(\"--------------------------\");\n",
    "nesterov_grad(2,2,0.1,20)"
   ]
  },
  {
   "cell_type": "markdown",
   "metadata": {},
   "source": [
    "<table>\n",
    "    <tr>\n",
    "        <th>Weight</th>\n",
    "        <th>Bais</th>\n",
    "        <th>Learning rate</th>\n",
    "        <th>epoch</th>\n",
    "        <th>Momentum-Gradient-Time</th>\n",
    "        <th>Nesterov-Gradient-Time</th>\n",
    "        <th>Momentum-Gradient-Loss</th>\n",
    "        <th>Nesterov-Gradient-Loss</th>\n",
    "        <th></th>\n",
    "    </tr>\n",
    "    <tr>\n",
    "        <td>-2</td>\n",
    "        <td>-2</td>\n",
    "        <td>0.1</td>\n",
    "        <td>10</td>\n",
    "        <td> 0.00018978118896484375</td>\n",
    "        <td>0.00013637542724609375</td>\n",
    "        <td>0.26750690145032485</td>\n",
    "        <td>0.1552378903673416</td>\n",
    "    </tr>\n",
    "      <tr>\n",
    "        <td>-2</td>\n",
    "        <td>-2</td>\n",
    "        <td>0.1</td>\n",
    "        <td>20</td>\n",
    "        <td>0.0005130767822265625</td>\n",
    "        <td> 0.00048732757568359375</td>\n",
    "        <td>0.13669806796427464</td>\n",
    "        <td>0.11132566037174835</td>\n",
    "    </tr> \n",
    "    <tr>\n",
    "        <td>2</td>\n",
    "        <td>2</td>\n",
    "        <td>0.1</td>\n",
    "        <td>10</td>\n",
    "        <td>0.00029468536376953125</td>\n",
    "        <td>0.0001437664031982422</td>\n",
    "        <td>0.030880688040618033</td>\n",
    "        <td>0.07616201599640063</td>\n",
    "    </tr>\n",
    "    <tr>\n",
    "        <td>2</td>\n",
    "        <td>2</td>\n",
    "        <td>0.1</td>\n",
    "        <td>20</td>\n",
    "        <td>0.0005400180816650391</td>\n",
    "        <td>0.0002541542053222656</td>\n",
    "        <td>0.07307142628533342</td>\n",
    "        <td>0.10476153557145784</td>\n",
    "    </tr>\n",
    "</table>\n"
   ]
  },
  {
   "cell_type": "code",
   "execution_count": null,
   "metadata": {},
   "outputs": [],
   "source": []
  }
 ],
 "metadata": {
  "kernelspec": {
   "display_name": "Python 3",
   "language": "python",
   "name": "python3"
  },
  "language_info": {
   "codemirror_mode": {
    "name": "ipython",
    "version": 3
   },
   "file_extension": ".py",
   "mimetype": "text/x-python",
   "name": "python",
   "nbconvert_exporter": "python",
   "pygments_lexer": "ipython3",
   "version": "3.7.6"
  }
 },
 "nbformat": 4,
 "nbformat_minor": 4
}
