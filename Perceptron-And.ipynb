{
 "cells": [
  {
   "cell_type": "code",
   "execution_count": 4,
   "metadata": {},
   "outputs": [],
   "source": [
    "import numpy as np"
   ]
  },
  {
   "cell_type": "code",
   "execution_count": 17,
   "metadata": {},
   "outputs": [],
   "source": [
    "class Perceptron(object):\n",
    "    \n",
    "    def __init__(self,noOfInputs,threshold=10,learningRate=1):\n",
    "        self.threshold = threshold\n",
    "        self.learningRate = learningRate\n",
    "        self.weights = np.zeros(noOfInputs + 1)\n",
    "        \n",
    "    def predict(self,inputs):\n",
    "        summation = np.dot(inputs,self.weights[1:]) + self.weights[0]\n",
    "        if summation>0:\n",
    "            activation = 1\n",
    "        else:\n",
    "            activation = 0\n",
    "        return activation\n",
    "    \n",
    "    def train(self,trainingInputs,labels):\n",
    "        for _ in range(self.threshold):\n",
    "            for inputs , label in zip(trainingInputs,labels):\n",
    "                prediction = self.predict(inputs)\n",
    "                self.weights[1:] += self.learningRate * (label - prediction) * inputs \n",
    "                self.weights[0:] += self.learningRate * (label - prediction)\n",
    "                print(self.weights)"
   ]
  },
  {
   "cell_type": "code",
   "execution_count": 19,
   "metadata": {},
   "outputs": [
    {
     "name": "stdout",
     "output_type": "stream",
     "text": [
      "[1. 2. 2.]\n",
      "[0. 0. 1.]\n",
      "[-1. -1. -1.]\n",
      "[-1. -1. -1.]\n",
      "[0. 1. 1.]\n",
      "[-1. -1.  0.]\n",
      "[-1. -1.  0.]\n",
      "[-1. -1.  0.]\n",
      "[0. 1. 2.]\n",
      "[-1. -1.  1.]\n",
      "[-1. -1.  1.]\n",
      "[-1. -1.  1.]\n",
      "[0. 1. 3.]\n",
      "[-1. -1.  2.]\n",
      "[-2. -2.  0.]\n",
      "[-2. -2.  0.]\n",
      "[-1.  0.  2.]\n",
      "[-1.  0.  2.]\n",
      "[-2. -1.  0.]\n",
      "[-2. -1.  0.]\n",
      "[-1.  1.  2.]\n",
      "[-1.  1.  2.]\n",
      "[-2.  0.  0.]\n",
      "[-2.  0.  0.]\n",
      "[-1.  2.  2.]\n",
      "[-2.  0.  1.]\n",
      "[-2.  0.  1.]\n",
      "[-2.  0.  1.]\n",
      "[-1.  2.  3.]\n",
      "[-2.  0.  2.]\n",
      "[-2.  0.  2.]\n",
      "[-2.  0.  2.]\n",
      "[-1.  2.  4.]\n",
      "[-2.  0.  3.]\n",
      "[-3. -1.  1.]\n",
      "[-3. -1.  1.]\n",
      "[-2.  1.  3.]\n",
      "[-2.  1.  3.]\n",
      "[-3.  0.  1.]\n",
      "[-3.  0.  1.]\n"
     ]
    }
   ],
   "source": [
    "trainingInputs = []\n",
    "trainingInputs.append(np.array([1,1]))\n",
    "trainingInputs.append(np.array([1,0]))\n",
    "trainingInputs.append(np.array([0,1]))\n",
    "trainingInputs.append(np.array([0,0]))\n",
    "\n",
    "    \n",
    "labels = np.array([1,0,0,0])\n",
    "\n",
    "perceptron = Perceptron(2)\n",
    "perceptron.train(trainingInputs,labels)"
   ]
  },
  {
   "cell_type": "code",
   "execution_count": 21,
   "metadata": {},
   "outputs": [
    {
     "name": "stdout",
     "output_type": "stream",
     "text": [
      "0\n"
     ]
    }
   ],
   "source": [
    "inputs = np.array([0,0])\n",
    "print(perceptron.predict(inputs))"
   ]
  },
  {
   "cell_type": "code",
   "execution_count": null,
   "metadata": {},
   "outputs": [],
   "source": []
  }
 ],
 "metadata": {
  "kernelspec": {
   "display_name": "Python 3",
   "language": "python",
   "name": "python3"
  },
  "language_info": {
   "codemirror_mode": {
    "name": "ipython",
    "version": 3
   },
   "file_extension": ".py",
   "mimetype": "text/x-python",
   "name": "python",
   "nbconvert_exporter": "python",
   "pygments_lexer": "ipython3",
   "version": "3.7.6"
  }
 },
 "nbformat": 4,
 "nbformat_minor": 4
}
