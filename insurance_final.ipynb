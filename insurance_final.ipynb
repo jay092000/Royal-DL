{
 "cells": [
  {
   "cell_type": "code",
   "execution_count": 87,
   "metadata": {},
   "outputs": [],
   "source": [
    "import numpy as np\n",
    "import pandas as pd\n",
    "import tensorflow as tf\n",
    "from tensorflow import keras\n",
    "from tensorflow.keras.models import Sequential\n",
    "from tensorflow.keras.layers import Activation, Dense\n",
    "from tensorflow.keras.optimizers import Adam\n",
    "from tensorflow.keras.layers import BatchNormalization\n",
    "from tensorflow.keras.layers import Dropout\n",
    "from keras.utils import to_categorical\n",
    "from sklearn.utils import shuffle\n",
    "from sklearn.model_selection import train_test_split\n",
    "import matplotlib.pyplot as plt"
   ]
  },
  {
   "cell_type": "code",
   "execution_count": 88,
   "metadata": {},
   "outputs": [
    {
     "name": "stdout",
     "output_type": "stream",
     "text": [
      "           age  sex       bmi  children  smoker  region      charges\n",
      "0    -1.438227    0 -0.453151         0       1       1  16884.92400\n",
      "1    -1.509401    1  0.509431         1       0       4   1725.55230\n",
      "2    -0.797655    1  0.383164         3       0       4   4449.46200\n",
      "3    -0.441782    1 -1.305043         0       0       0  21984.47061\n",
      "4    -0.512957    1 -0.292447         0       0       0   3866.85520\n",
      "...        ...  ...       ...       ...     ...     ...          ...\n",
      "1333  0.768185    1  0.050278         3       0       0  10600.54830\n",
      "1334 -1.509401    0  0.206062         0       0       3   2205.98080\n",
      "1335 -1.509401    0  1.014499         0       0       4   1629.83350\n",
      "1336 -1.295877    0 -0.797515         0       0       1   2007.94500\n",
      "1337  1.551106    0 -0.261290         0       1       0  29141.36030\n",
      "\n",
      "[1338 rows x 7 columns]\n"
     ]
    }
   ],
   "source": [
    "data = pd.read_csv(\"./Datasets/datasets_13720_18513_insurance.csv\",skipinitialspace=True, engine=\"python\")\n",
    "sex = {'male': 1,'female': 0}\n",
    "smoker = {'yes': 1,'no': 0}\n",
    "region = {'northwest': 0,'southwest': 1,'northeast':3,'southeast':4}\n",
    "\n",
    "data.sex = [sex[item] for item in data.sex]\n",
    "data.smoker = [smoker[item] for item in data.smoker]\n",
    "data.region = [region[item] for item in data.region]\n",
    "data.age = (data['age'] -data[\"age\"].mean())/data['age'].std()\n",
    "data['bmi'] = (data['bmi'] -data[\"bmi\"].mean())/data['bmi'].std()\n",
    "\n",
    "print(data)\n",
    "\n",
    "x = dataset.iloc[:,0:6].values\n",
    "y = dataset.iloc[:,6].values\n",
    "\n"
   ]
  },
  {
   "cell_type": "code",
   "execution_count": 313,
   "metadata": {},
   "outputs": [],
   "source": [
    "X_train, X_test, y_train, y_test = train_test_split(x, y, test_size=0.2)"
   ]
  },
  {
   "cell_type": "code",
   "execution_count": 326,
   "metadata": {},
   "outputs": [],
   "source": [
    "\n",
    "def get_model():\n",
    "    model = Sequential()\n",
    "    model.add(Dense(16,input_shape=(6,),activation='relu'))\n",
    "    model.add(Dense(8,activation='relu'))\n",
    "    model.add(Dense(1,activation='linear'))\n",
    "\n",
    "    return model\n",
    "\n",
    "\n",
    "\n"
   ]
  },
  {
   "cell_type": "code",
   "execution_count": 334,
   "metadata": {},
   "outputs": [],
   "source": [
    "model = get_model()\n",
    "optimzer = Adam(lr=0.005)\n",
    "model.compile(optimizer=optimzer,loss=\"mse\", metrics=['mae'])\n"
   ]
  },
  {
   "cell_type": "code",
   "execution_count": 335,
   "metadata": {},
   "outputs": [],
   "source": [
    "history = model.fit(X_train,y_train,epochs=900,validation_split=0.2,verbose=0)"
   ]
  },
  {
   "cell_type": "code",
   "execution_count": 336,
   "metadata": {},
   "outputs": [
    {
     "data": {
      "text/plain": [
       "<matplotlib.axes._subplots.AxesSubplot at 0x7fc7732b04d0>"
      ]
     },
     "execution_count": 336,
     "metadata": {},
     "output_type": "execute_result"
    },
    {
     "data": {
      "image/png": "[encoded data removed]",
      "text/plain": [
       "<Figure size 432x288 with 1 Axes>"
      ]
     },
     "metadata": {
      "needs_background": "light"
     },
     "output_type": "display_data"
    }
   ],
   "source": [
    "losses = pd.DataFrame(model.history.history)\n",
    "losses.plot()"
   ]
  },
  {
   "cell_type": "code",
   "execution_count": 337,
   "metadata": {},
   "outputs": [
    {
     "name": "stdout",
     "output_type": "stream",
     "text": [
      "268/268 [==============================] - 0s 169us/sample - loss: 0.0054 - mae: 0.0427\n",
      "[0.005388088118191113, 0.04270693]\n",
      "0.042706932306287616\n",
      "0.07340359675014699\n",
      "VarScore: 0.8276993003333741\n"
     ]
    }
   ],
   "source": [
    "from sklearn.metrics import mean_squared_error,mean_absolute_error,explained_variance_score\n",
    "print(model.evaluate(X_test,y_test))\n",
    "predictions = model.predict(X_test)\n",
    "print(mean_absolute_error(y_test,predictions))\n",
    "print(np.sqrt(mean_squared_error(y_test,predictions)))\n",
    "print('VarScore:',explained_variance_score(y_test,predictions))"
   ]
  },
  {
   "cell_type": "markdown",
   "metadata": {},
   "source": [
    "<h2>Best so far<f2>\n",
    "0.031706932306287616\n",
    "0.07240359675014699\n",
    "VarScore: 0.8376993003333741"
   ]
  },
  {
   "cell_type": "code",
   "execution_count": null,
   "metadata": {},
   "outputs": [],
   "source": []
  }
 ],
 "metadata": {
  "kernelspec": {
   "display_name": "Python 3",
   "language": "python",
   "name": "python3"
  },
  "language_info": {
   "codemirror_mode": {
    "name": "ipython",
    "version": 3
   },
   "file_extension": ".py",
   "mimetype": "text/x-python",
   "name": "python",
   "nbconvert_exporter": "python",
   "pygments_lexer": "ipython3",
   "version": "3.7.6"
  }
 },
 "nbformat": 4,
 "nbformat_minor": 4
}
