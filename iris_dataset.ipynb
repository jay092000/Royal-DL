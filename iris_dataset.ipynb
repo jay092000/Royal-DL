{
 "cells": [
  {
   "cell_type": "code",
   "execution_count": 24,
   "metadata": {},
   "outputs": [],
   "source": [
    "import numpy as np\n",
    "import pandas as pd\n",
    "import tensorflow as tf\n",
    "from tensorflow import keras\n",
    "from tensorflow.keras.models import Sequential\n",
    "from tensorflow.keras.layers import Activation, Dense\n",
    "from sklearn.utils import shuffle\n",
    "from sklearn.model_selection import train_test_split\n",
    "from sklearn.preprocessing import LabelEncoder\n"
   ]
  },
  {
   "cell_type": "code",
   "execution_count": 25,
   "metadata": {},
   "outputs": [
    {
     "name": "stderr",
     "output_type": "stream",
     "text": [
      "/home/jp/anaconda3/lib/python3.7/site-packages/sklearn/preprocessing/_label.py:251: DataConversionWarning: A column-vector y was passed when a 1d array was expected. Please change the shape of y to (n_samples, ), for example using ravel().\n",
      "  y = column_or_1d(y, warn=True)\n"
     ]
    }
   ],
   "source": [
    "data = pd.read_csv(\"./Datasets/Iris.csv\",names=['sepal length','sepal width','petal length','petal width','target'],skipinitialspace=True, skiprows=1, engine=\"python\")\n",
    "features = ['sepal length','sepal width','petal length','petal width']\n",
    "\n",
    "main_input = data.loc[:,features].values\n",
    "output = data.loc[:,['target']].values\n",
    "\n",
    "main_input = np.array(main_input)\n",
    "output = np.array(output)\n",
    "\n",
    "\n",
    "encoder = LabelEncoder()\n",
    "output = encoder.fit_transform(output)\n",
    "\n",
    "output = pd.get_dummies(output).values\n",
    "\n"
   ]
  },
  {
   "cell_type": "code",
   "execution_count": 147,
   "metadata": {},
   "outputs": [],
   "source": [
    "def get_model():\n",
    "\n",
    "    model = Sequential()\n",
    "    model.add(Dense(10, input_shape=(4,),activation=\"relu\"))\n",
    "    model.add(Dense(8,activation=\"relu\"))\n",
    "    model.add(Dense(6,activation=\"relu\"))\n",
    "    model.add(Dense(3,activation=\"softmax\"))\n",
    "    \n",
    "    return model;\n"
   ]
  },
  {
   "cell_type": "code",
   "execution_count": 148,
   "metadata": {},
   "outputs": [
    {
     "name": "stdout",
     "output_type": "stream",
     "text": [
      "(120, 4)\n",
      "(120, 3)\n"
     ]
    }
   ],
   "source": [
    "X_train, X_test, y_train, y_test = train_test_split(main_input, output, test_size=0.2,shuffle=True)\n",
    "print(np.shape(X_train))\n",
    "print(np.shape(y_train))"
   ]
  },
  {
   "cell_type": "code",
   "execution_count": 149,
   "metadata": {},
   "outputs": [],
   "source": [
    "model = get_model()\n",
    "adam = tf.keras.optimizers.SGD(learning_rate=0.005)\n",
    "model.compile(adam,'categorical_crossentropy',metrics=['accuracy'])"
   ]
  },
  {
   "cell_type": "code",
   "execution_count": 150,
   "metadata": {},
   "outputs": [
    {
     "data": {
      "text/plain": [
       "<tensorflow.python.keras.callbacks.History at 0x7f4f85e90890>"
      ]
     },
     "execution_count": 150,
     "metadata": {},
     "output_type": "execute_result"
    }
   ],
   "source": [
    "model.fit(x=X_train,y=y_train,epochs=100,shuffle=True,verbose=0) #do verbose 1 or 2 to see training"
   ]
  },
  {
   "cell_type": "code",
   "execution_count": 151,
   "metadata": {},
   "outputs": [
    {
     "name": "stdout",
     "output_type": "stream",
     "text": [
      "\r",
      "30/30 [==============================] - 0s 3ms/sample - loss: 0.9787 - accuracy: 0.5333\n"
     ]
    },
    {
     "data": {
      "text/plain": [
       "[0.9786794185638428, 0.53333336]"
      ]
     },
     "execution_count": 151,
     "metadata": {},
     "output_type": "execute_result"
    }
   ],
   "source": [
    "model.evaluate(X_test,y_test)"
   ]
  },
  {
   "cell_type": "markdown",
   "metadata": {},
   "source": [
    "With Adam(lr=0.005)\n",
    "\n",
    "with relu  loss: 0.1475 - accuracy: 0.9667<br>\n",
    "with elu   loss: 0.1028 - accuracy: 0.9333<br>\n",
    "with tanh  loss: 0.0915 - accuracy: 0.9667<br>\n",
    "\n",
    "With Adam(lr=0.05)\n",
    "\n",
    "with relu  loss: 0.0029 - accuracy: 1.0000<br>\n",
    "with elu   loss: 0.0409 - accuracy: 1.0000<br>\n",
    "with tanh  loss: 0.1215 - accuracy: 0.9333<br>\n",
    "\n",
    "\n",
    "With SGD(lr=0.05)\n",
    "\n",
    "with relu  loss: 0.0408 - accuracy: 1.0000<br>\n",
    "with elu   loss: 0.0770 - accuracy: 0.9667<br>\n",
    "with tanh  loss: 0.2518 - accuracy: 0.9000<br>\n",
    "\n",
    "With SGD(lr=0.005)\n",
    "\n",
    "with relu  loss: 0.9787 - accuracy: 0.5333<br>\n",
    "with elu   loss: 0.5909 - accuracy: 0.6667<br>\n",
    "with tanh  loss: 0.7112 - accuracy: 0.4667<br>\n"
   ]
  },
  {
   "cell_type": "code",
   "execution_count": null,
   "metadata": {},
   "outputs": [],
   "source": []
  }
 ],
 "metadata": {
  "kernelspec": {
   "display_name": "Python 3",
   "language": "python",
   "name": "python3"
  },
  "language_info": {
   "codemirror_mode": {
    "name": "ipython",
    "version": 3
   },
   "file_extension": ".py",
   "mimetype": "text/x-python",
   "name": "python",
   "nbconvert_exporter": "python",
   "pygments_lexer": "ipython3",
   "version": "3.7.6"
  }
 },
 "nbformat": 4,
 "nbformat_minor": 4
}
